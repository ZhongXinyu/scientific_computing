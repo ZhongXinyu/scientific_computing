{
 "cells": [
  {
   "cell_type": "markdown",
   "metadata": {},
   "source": [
    "# Visualizing Chipotle's Data"
   ]
  },
  {
   "cell_type": "markdown",
   "metadata": {},
   "source": [
    "This time we are going to pull data directly from the internet.\n",
    "Special thanks to: https://github.com/justmarkham for sharing the dataset and materials.\n",
    "\n",
    "### Step 1. Import the necessary libraries"
   ]
  },
  {
   "cell_type": "code",
   "execution_count": 12,
   "metadata": {
    "collapsed": false
   },
   "outputs": [],
   "source": [
    "import pandas as pd\n",
    "import collections\n",
    "import matplotlib.pyplot as plt \n",
    "\n",
    "import ssl\n",
    "ssl._create_default_https_context = ssl._create_unverified_context\n",
    "# set this so the graphs open internally\n",
    "%matplotlib inline\n"
   ]
  },
  {
   "cell_type": "markdown",
   "metadata": {},
   "source": [
    "### Step 2. Import the dataset from this [address](https://raw.githubusercontent.com/justmarkham/DAT8/master/data/chipotle.tsv). "
   ]
  },
  {
   "cell_type": "markdown",
   "metadata": {},
   "source": [
    "### Step 3. Assign it to a variable called chipo."
   ]
  },
  {
   "cell_type": "code",
   "execution_count": 13,
   "metadata": {
    "collapsed": false
   },
   "outputs": [],
   "source": [
    "url = \"https://raw.githubusercontent.com/justmarkham/DAT8/master/data/chipotle.tsv\"\n",
    "chipo = pd.read_csv(url, sep=\"\\t\")"
   ]
  },
  {
   "cell_type": "markdown",
   "metadata": {},
   "source": [
    "### Step 4. See the first 10 entries"
   ]
  },
  {
   "cell_type": "code",
   "execution_count": 14,
   "metadata": {
    "collapsed": false,
    "scrolled": false
   },
   "outputs": [
    {
     "data": {
      "text/html": [
       "<div>\n",
       "<style scoped>\n",
       "    .dataframe tbody tr th:only-of-type {\n",
       "        vertical-align: middle;\n",
       "    }\n",
       "\n",
       "    .dataframe tbody tr th {\n",
       "        vertical-align: top;\n",
       "    }\n",
       "\n",
       "    .dataframe thead th {\n",
       "        text-align: right;\n",
       "    }\n",
       "</style>\n",
       "<table border=\"1\" class=\"dataframe\">\n",
       "  <thead>\n",
       "    <tr style=\"text-align: right;\">\n",
       "      <th></th>\n",
       "      <th>order_id</th>\n",
       "      <th>quantity</th>\n",
       "      <th>item_name</th>\n",
       "      <th>choice_description</th>\n",
       "      <th>item_price</th>\n",
       "    </tr>\n",
       "  </thead>\n",
       "  <tbody>\n",
       "    <tr>\n",
       "      <th>0</th>\n",
       "      <td>1</td>\n",
       "      <td>1</td>\n",
       "      <td>Chips and Fresh Tomato Salsa</td>\n",
       "      <td>NaN</td>\n",
       "      <td>$2.39</td>\n",
       "    </tr>\n",
       "    <tr>\n",
       "      <th>1</th>\n",
       "      <td>1</td>\n",
       "      <td>1</td>\n",
       "      <td>Izze</td>\n",
       "      <td>[Clementine]</td>\n",
       "      <td>$3.39</td>\n",
       "    </tr>\n",
       "    <tr>\n",
       "      <th>2</th>\n",
       "      <td>1</td>\n",
       "      <td>1</td>\n",
       "      <td>Nantucket Nectar</td>\n",
       "      <td>[Apple]</td>\n",
       "      <td>$3.39</td>\n",
       "    </tr>\n",
       "    <tr>\n",
       "      <th>3</th>\n",
       "      <td>1</td>\n",
       "      <td>1</td>\n",
       "      <td>Chips and Tomatillo-Green Chili Salsa</td>\n",
       "      <td>NaN</td>\n",
       "      <td>$2.39</td>\n",
       "    </tr>\n",
       "    <tr>\n",
       "      <th>4</th>\n",
       "      <td>2</td>\n",
       "      <td>2</td>\n",
       "      <td>Chicken Bowl</td>\n",
       "      <td>[Tomatillo-Red Chili Salsa (Hot), [Black Beans...</td>\n",
       "      <td>$16.98</td>\n",
       "    </tr>\n",
       "    <tr>\n",
       "      <th>5</th>\n",
       "      <td>3</td>\n",
       "      <td>1</td>\n",
       "      <td>Chicken Bowl</td>\n",
       "      <td>[Fresh Tomato Salsa (Mild), [Rice, Cheese, Sou...</td>\n",
       "      <td>$10.98</td>\n",
       "    </tr>\n",
       "    <tr>\n",
       "      <th>6</th>\n",
       "      <td>3</td>\n",
       "      <td>1</td>\n",
       "      <td>Side of Chips</td>\n",
       "      <td>NaN</td>\n",
       "      <td>$1.69</td>\n",
       "    </tr>\n",
       "    <tr>\n",
       "      <th>7</th>\n",
       "      <td>4</td>\n",
       "      <td>1</td>\n",
       "      <td>Steak Burrito</td>\n",
       "      <td>[Tomatillo Red Chili Salsa, [Fajita Vegetables...</td>\n",
       "      <td>$11.75</td>\n",
       "    </tr>\n",
       "    <tr>\n",
       "      <th>8</th>\n",
       "      <td>4</td>\n",
       "      <td>1</td>\n",
       "      <td>Steak Soft Tacos</td>\n",
       "      <td>[Tomatillo Green Chili Salsa, [Pinto Beans, Ch...</td>\n",
       "      <td>$9.25</td>\n",
       "    </tr>\n",
       "    <tr>\n",
       "      <th>9</th>\n",
       "      <td>5</td>\n",
       "      <td>1</td>\n",
       "      <td>Steak Burrito</td>\n",
       "      <td>[Fresh Tomato Salsa, [Rice, Black Beans, Pinto...</td>\n",
       "      <td>$9.25</td>\n",
       "    </tr>\n",
       "  </tbody>\n",
       "</table>\n",
       "</div>"
      ],
      "text/plain": [
       "   order_id  quantity                              item_name  \\\n",
       "0         1         1           Chips and Fresh Tomato Salsa   \n",
       "1         1         1                                   Izze   \n",
       "2         1         1                       Nantucket Nectar   \n",
       "3         1         1  Chips and Tomatillo-Green Chili Salsa   \n",
       "4         2         2                           Chicken Bowl   \n",
       "5         3         1                           Chicken Bowl   \n",
       "6         3         1                          Side of Chips   \n",
       "7         4         1                          Steak Burrito   \n",
       "8         4         1                       Steak Soft Tacos   \n",
       "9         5         1                          Steak Burrito   \n",
       "\n",
       "                                  choice_description item_price  \n",
       "0                                                NaN     $2.39   \n",
       "1                                       [Clementine]     $3.39   \n",
       "2                                            [Apple]     $3.39   \n",
       "3                                                NaN     $2.39   \n",
       "4  [Tomatillo-Red Chili Salsa (Hot), [Black Beans...    $16.98   \n",
       "5  [Fresh Tomato Salsa (Mild), [Rice, Cheese, Sou...    $10.98   \n",
       "6                                                NaN     $1.69   \n",
       "7  [Tomatillo Red Chili Salsa, [Fajita Vegetables...    $11.75   \n",
       "8  [Tomatillo Green Chili Salsa, [Pinto Beans, Ch...     $9.25   \n",
       "9  [Fresh Tomato Salsa, [Rice, Black Beans, Pinto...     $9.25   "
      ]
     },
     "execution_count": 14,
     "metadata": {},
     "output_type": "execute_result"
    }
   ],
   "source": [
    "chipo.head(10)"
   ]
  },
  {
   "cell_type": "markdown",
   "metadata": {},
   "source": [
    "### Step 5. Create a histogram of the top 5 items bought"
   ]
  },
  {
   "cell_type": "code",
   "execution_count": 22,
   "metadata": {
    "collapsed": false
   },
   "outputs": [
    {
     "name": "stdout",
     "output_type": "stream",
     "text": [
      "                                         0  \\\n",
      "Chips and Fresh Tomato Salsa           110   \n",
      "Izze                                    20   \n",
      "Nantucket Nectar                        27   \n",
      "Chips and Tomatillo-Green Chili Salsa   31   \n",
      "Chicken Bowl                           726   \n",
      "Side of Chips                          101   \n",
      "Steak Burrito                          368   \n",
      "Steak Soft Tacos                        55   \n",
      "Chips and Guacamole                    479   \n",
      "Chicken Crispy Tacos                    47   \n",
      "Chicken Soft Tacos                     115   \n",
      "Chicken Burrito                        553   \n",
      "Canned Soda                            104   \n",
      "Barbacoa Burrito                        91   \n",
      "Carnitas Burrito                        59   \n",
      "Carnitas Bowl                           68   \n",
      "Bottled Water                          162   \n",
      "Chips and Tomatillo Green Chili Salsa   43   \n",
      "Barbacoa Bowl                           66   \n",
      "Chips                                  211   \n",
      "Chicken Salad Bowl                     110   \n",
      "Steak Bowl                             211   \n",
      "Barbacoa Soft Tacos                     25   \n",
      "Veggie Burrito                          95   \n",
      "Veggie Bowl                             85   \n",
      "Steak Crispy Tacos                      35   \n",
      "Chips and Tomatillo Red Chili Salsa     48   \n",
      "Barbacoa Crispy Tacos                   11   \n",
      "Veggie Salad Bowl                       18   \n",
      "Chips and Roasted Chili-Corn Salsa      18   \n",
      "Chips and Roasted Chili Corn Salsa      22   \n",
      "Carnitas Soft Tacos                     40   \n",
      "Chicken Salad                            9   \n",
      "Canned Soft Drink                      301   \n",
      "Steak Salad Bowl                        29   \n",
      "6 Pack Soft Drink                       54   \n",
      "Chips and Tomatillo-Red Chili Salsa     20   \n",
      "Bowl                                     2   \n",
      "Burrito                                  6   \n",
      "Crispy Tacos                             2   \n",
      "Carnitas Crispy Tacos                    7   \n",
      "Steak Salad                              4   \n",
      "Chips and Mild Fresh Tomato Salsa        1   \n",
      "Veggie Soft Tacos                        7   \n",
      "Carnitas Salad Bowl                      6   \n",
      "Barbacoa Salad Bowl                     10   \n",
      "Salad                                    2   \n",
      "Veggie Crispy Tacos                      1   \n",
      "Veggie Salad                             6   \n",
      "Carnitas Salad                           1   \n",
      "\n",
      "                                                                           1  \n",
      "Chips and Fresh Tomato Salsa                    Chips and Fresh Tomato Salsa  \n",
      "Izze                                                                    Izze  \n",
      "Nantucket Nectar                                            Nantucket Nectar  \n",
      "Chips and Tomatillo-Green Chili Salsa  Chips and Tomatillo-Green Chili Salsa  \n",
      "Chicken Bowl                                                    Chicken Bowl  \n",
      "Side of Chips                                                  Side of Chips  \n",
      "Steak Burrito                                                  Steak Burrito  \n",
      "Steak Soft Tacos                                            Steak Soft Tacos  \n",
      "Chips and Guacamole                                      Chips and Guacamole  \n",
      "Chicken Crispy Tacos                                    Chicken Crispy Tacos  \n",
      "Chicken Soft Tacos                                        Chicken Soft Tacos  \n",
      "Chicken Burrito                                              Chicken Burrito  \n",
      "Canned Soda                                                      Canned Soda  \n",
      "Barbacoa Burrito                                            Barbacoa Burrito  \n",
      "Carnitas Burrito                                            Carnitas Burrito  \n",
      "Carnitas Bowl                                                  Carnitas Bowl  \n",
      "Bottled Water                                                  Bottled Water  \n",
      "Chips and Tomatillo Green Chili Salsa  Chips and Tomatillo Green Chili Salsa  \n",
      "Barbacoa Bowl                                                  Barbacoa Bowl  \n",
      "Chips                                                                  Chips  \n",
      "Chicken Salad Bowl                                        Chicken Salad Bowl  \n",
      "Steak Bowl                                                        Steak Bowl  \n",
      "Barbacoa Soft Tacos                                      Barbacoa Soft Tacos  \n",
      "Veggie Burrito                                                Veggie Burrito  \n",
      "Veggie Bowl                                                      Veggie Bowl  \n",
      "Steak Crispy Tacos                                        Steak Crispy Tacos  \n",
      "Chips and Tomatillo Red Chili Salsa      Chips and Tomatillo Red Chili Salsa  \n",
      "Barbacoa Crispy Tacos                                  Barbacoa Crispy Tacos  \n",
      "Veggie Salad Bowl                                          Veggie Salad Bowl  \n",
      "Chips and Roasted Chili-Corn Salsa        Chips and Roasted Chili-Corn Salsa  \n",
      "Chips and Roasted Chili Corn Salsa        Chips and Roasted Chili Corn Salsa  \n",
      "Carnitas Soft Tacos                                      Carnitas Soft Tacos  \n",
      "Chicken Salad                                                  Chicken Salad  \n",
      "Canned Soft Drink                                          Canned Soft Drink  \n",
      "Steak Salad Bowl                                            Steak Salad Bowl  \n",
      "6 Pack Soft Drink                                          6 Pack Soft Drink  \n",
      "Chips and Tomatillo-Red Chili Salsa      Chips and Tomatillo-Red Chili Salsa  \n",
      "Bowl                                                                    Bowl  \n",
      "Burrito                                                              Burrito  \n",
      "Crispy Tacos                                                    Crispy Tacos  \n",
      "Carnitas Crispy Tacos                                  Carnitas Crispy Tacos  \n",
      "Steak Salad                                                      Steak Salad  \n",
      "Chips and Mild Fresh Tomato Salsa          Chips and Mild Fresh Tomato Salsa  \n",
      "Veggie Soft Tacos                                          Veggie Soft Tacos  \n",
      "Carnitas Salad Bowl                                      Carnitas Salad Bowl  \n",
      "Barbacoa Salad Bowl                                      Barbacoa Salad Bowl  \n",
      "Salad                                                                  Salad  \n",
      "Veggie Crispy Tacos                                      Veggie Crispy Tacos  \n",
      "Veggie Salad                                                    Veggie Salad  \n",
      "Carnitas Salad                                                Carnitas Salad  \n"
     ]
    },
    {
     "ename": "TypeError",
     "evalue": "`Series.plot()` should not be called with positional arguments, only keyword arguments. The order of positional arguments will change in the future. Use `Series.plot(kind=368, ax=301)` instead of `Series.plot(368, 301)`.",
     "output_type": "error",
     "traceback": [
      "\u001b[0;31m---------------------------------------------------------------------------\u001b[0m",
      "\u001b[0;31mTypeError\u001b[0m                                 Traceback (most recent call last)",
      "\u001b[0;32m/var/folders/tl/nzmzq7m535ngktm52nsf1hx00000gn/T/ipykernel_17923/1204144637.py\u001b[0m in \u001b[0;36m<module>\u001b[0;34m\u001b[0m\n\u001b[1;32m     13\u001b[0m \u001b[0;34m\u001b[0m\u001b[0m\n\u001b[1;32m     14\u001b[0m \u001b[0;31m# create the plot\u001b[0m\u001b[0;34m\u001b[0m\u001b[0;34m\u001b[0m\u001b[0;34m\u001b[0m\u001b[0m\n\u001b[0;32m---> 15\u001b[0;31m \u001b[0mdf\u001b[0m\u001b[0;34m.\u001b[0m\u001b[0mplot\u001b[0m\u001b[0;34m(\u001b[0m\u001b[0mdf\u001b[0m\u001b[0;34m[\u001b[0m\u001b[0;36m1\u001b[0m\u001b[0;34m]\u001b[0m\u001b[0;34m,\u001b[0m\u001b[0mdf\u001b[0m\u001b[0;34m[\u001b[0m\u001b[0;36m0\u001b[0m\u001b[0;34m]\u001b[0m\u001b[0;34m,\u001b[0m\u001b[0mkind\u001b[0m\u001b[0;34m=\u001b[0m\u001b[0;34m'bar'\u001b[0m\u001b[0;34m)\u001b[0m\u001b[0;34m\u001b[0m\u001b[0;34m\u001b[0m\u001b[0m\n\u001b[0m\u001b[1;32m     16\u001b[0m \u001b[0;34m\u001b[0m\u001b[0m\n\u001b[1;32m     17\u001b[0m \u001b[0;31m# Set the title and labels\u001b[0m\u001b[0;34m\u001b[0m\u001b[0;34m\u001b[0m\u001b[0;34m\u001b[0m\u001b[0m\n",
      "\u001b[0;32m/Library/Frameworks/Python.framework/Versions/3.8/lib/python3.8/site-packages/pandas/plotting/_core.py\u001b[0m in \u001b[0;36m__call__\u001b[0;34m(self, *args, **kwargs)\u001b[0m\n\u001b[1;32m    892\u001b[0m         \u001b[0mplot_backend\u001b[0m \u001b[0;34m=\u001b[0m \u001b[0m_get_plot_backend\u001b[0m\u001b[0;34m(\u001b[0m\u001b[0mkwargs\u001b[0m\u001b[0;34m.\u001b[0m\u001b[0mpop\u001b[0m\u001b[0;34m(\u001b[0m\u001b[0;34m\"backend\"\u001b[0m\u001b[0;34m,\u001b[0m \u001b[0;32mNone\u001b[0m\u001b[0;34m)\u001b[0m\u001b[0;34m)\u001b[0m\u001b[0;34m\u001b[0m\u001b[0;34m\u001b[0m\u001b[0m\n\u001b[1;32m    893\u001b[0m \u001b[0;34m\u001b[0m\u001b[0m\n\u001b[0;32m--> 894\u001b[0;31m         x, y, kind, kwargs = self._get_call_args(\n\u001b[0m\u001b[1;32m    895\u001b[0m             \u001b[0mplot_backend\u001b[0m\u001b[0;34m.\u001b[0m\u001b[0m__name__\u001b[0m\u001b[0;34m,\u001b[0m \u001b[0mself\u001b[0m\u001b[0;34m.\u001b[0m\u001b[0m_parent\u001b[0m\u001b[0;34m,\u001b[0m \u001b[0margs\u001b[0m\u001b[0;34m,\u001b[0m \u001b[0mkwargs\u001b[0m\u001b[0;34m\u001b[0m\u001b[0;34m\u001b[0m\u001b[0m\n\u001b[1;32m    896\u001b[0m         )\n",
      "\u001b[0;32m/Library/Frameworks/Python.framework/Versions/3.8/lib/python3.8/site-packages/pandas/plotting/_core.py\u001b[0m in \u001b[0;36m_get_call_args\u001b[0;34m(backend_name, data, args, kwargs)\u001b[0m\n\u001b[1;32m    876\u001b[0m                 \u001b[0;34mf\"`Series.plot({positional_args})`.\"\u001b[0m\u001b[0;34m\u001b[0m\u001b[0;34m\u001b[0m\u001b[0m\n\u001b[1;32m    877\u001b[0m             )\n\u001b[0;32m--> 878\u001b[0;31m             \u001b[0;32mraise\u001b[0m \u001b[0mTypeError\u001b[0m\u001b[0;34m(\u001b[0m\u001b[0mmsg\u001b[0m\u001b[0;34m)\u001b[0m\u001b[0;34m\u001b[0m\u001b[0;34m\u001b[0m\u001b[0m\n\u001b[0m\u001b[1;32m    879\u001b[0m \u001b[0;34m\u001b[0m\u001b[0m\n\u001b[1;32m    880\u001b[0m         \u001b[0mpos_args\u001b[0m \u001b[0;34m=\u001b[0m \u001b[0;34m{\u001b[0m\u001b[0mname\u001b[0m\u001b[0;34m:\u001b[0m \u001b[0mvalue\u001b[0m \u001b[0;32mfor\u001b[0m \u001b[0;34m(\u001b[0m\u001b[0mname\u001b[0m\u001b[0;34m,\u001b[0m \u001b[0m_\u001b[0m\u001b[0;34m)\u001b[0m\u001b[0;34m,\u001b[0m \u001b[0mvalue\u001b[0m \u001b[0;32min\u001b[0m \u001b[0mzip\u001b[0m\u001b[0;34m(\u001b[0m\u001b[0marg_def\u001b[0m\u001b[0;34m,\u001b[0m \u001b[0margs\u001b[0m\u001b[0;34m)\u001b[0m\u001b[0;34m}\u001b[0m\u001b[0;34m\u001b[0m\u001b[0;34m\u001b[0m\u001b[0m\n",
      "\u001b[0;31mTypeError\u001b[0m: `Series.plot()` should not be called with positional arguments, only keyword arguments. The order of positional arguments will change in the future. Use `Series.plot(kind=368, ax=301)` instead of `Series.plot(368, 301)`."
     ]
    }
   ],
   "source": [
    "# get the Series of the names\n",
    "x = chipo.item_name\n",
    "\n",
    "# use the Counter class from collections to create a dictionary with keys(text) and frequency\n",
    "letter_counts = collections.Counter(x)\n",
    "\n",
    "# convert the dictionary to a DataFrame\n",
    "df = pd.DataFrame.from_dict(letter_counts, orient='index')\n",
    "df[1]=df.index\n",
    "print (df)\n",
    "# sort the values from the top to the least value and slice the first 5 items\n",
    "df = df[0].sort_values(ascending = True)[45:50]\n",
    "\n",
    "# create the plot\n",
    "df.plot(kind='bar')\n",
    "\n",
    "# Set the title and labels\n",
    "plt.xlabel('Items')\n",
    "plt.ylabel('Price')\n",
    "plt.title('Most ordered Chipotle\\'s Items')\n",
    "\n",
    "# show the plot\n",
    "plt.show()\n"
   ]
  },
  {
   "cell_type": "markdown",
   "metadata": {},
   "source": [
    "### Step 6. Create a scatterplot with the number of items orderered per order price\n",
    "#### Hint: Price should be in the X-axis and Items ordered in the Y-axis"
   ]
  },
  {
   "cell_type": "code",
   "execution_count": null,
   "metadata": {
    "collapsed": false
   },
   "outputs": [],
   "source": [
    "d"
   ]
  },
  {
   "cell_type": "markdown",
   "metadata": {},
   "source": [
    "### Step 7. BONUS: Create a question and a graph to answer your own question."
   ]
  },
  {
   "cell_type": "code",
   "execution_count": null,
   "metadata": {
    "collapsed": false
   },
   "outputs": [],
   "source": []
  }
 ],
 "metadata": {
  "interpreter": {
   "hash": "31f2aee4e71d21fbe5cf8b01ff0e069b9275f58929596ceb00d14d90e3e16cd6"
  },
  "kernelspec": {
   "display_name": "Python 2",
   "language": "python",
   "name": "python3"
  },
  "language_info": {
   "codemirror_mode": {
    "name": "ipython",
    "version": 3
   },
   "file_extension": ".py",
   "mimetype": "text/x-python",
   "name": "python",
   "nbconvert_exporter": "python",
   "pygments_lexer": "ipython3",
   "version": "3.8.2"
  }
 },
 "nbformat": 4,
 "nbformat_minor": 0
}
